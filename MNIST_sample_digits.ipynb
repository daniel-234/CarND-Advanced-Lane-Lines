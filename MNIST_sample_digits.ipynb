{
  "nbformat": 4,
  "nbformat_minor": 0,
  "metadata": {
    "colab": {
      "name": "MNIST_sample_digits.ipynb",
      "provenance": [],
      "collapsed_sections": [],
      "toc_visible": true,
      "include_colab_link": true
    },
    "kernelspec": {
      "display_name": "Python 3",
      "name": "python3"
    }
  },
  "cells": [
    {
      "cell_type": "markdown",
      "metadata": {
        "id": "view-in-github",
        "colab_type": "text"
      },
      "source": [
        "<a href=\"https://colab.research.google.com/github/daniel-234/CarND-Advanced-Lane-Lines/blob/master/MNIST_sample_digits.ipynb\" target=\"_parent\"><img src=\"https://colab.research.google.com/assets/colab-badge.svg\" alt=\"Open In Colab\"/></a>"
      ]
    },
    {
      "cell_type": "code",
      "metadata": {
        "id": "zX4Kg8DUTKWO"
      },
      "source": [
        "# Example taken from the book Deep Learning with Python, 2nd Edition\n",
        "# See https://www.manning.com/books/deep-learning-with-python-second-edition "
      ],
      "execution_count": null,
      "outputs": []
    },
    {
      "cell_type": "markdown",
      "metadata": {
        "id": "mw2VBrBcgvGa"
      },
      "source": [
        "This exercise is taken from the Deep Learning with Python book, as a reference. \n",
        "\n",
        "\"The problem tries to solve classification of grayscale images of handwritten digits (28 x 28 pixels) into their 10 categories (0 through 9)\". [book, section 2.1]\n"
      ]
    },
    {
      "cell_type": "code",
      "metadata": {
        "colab": {
          "base_uri": "https://localhost:8080/"
        },
        "id": "PUNO2E6SeURH",
        "outputId": "ded326d5-6991-49ff-b4f8-fe3096460d90"
      },
      "source": [
        "from tensorflow import keras\n",
        "from keras.datasets import mnist\n",
        "\n",
        "(train_images, train_labels), (test_images, test_labels) = mnist.load_data()\n",
        "\n",
        "# Let's look at the training data.\n",
        "train_images.shape\n",
        "len(train_labels)\n",
        "\n",
        "# Let's look at  the test data.\n",
        "test_images.shape\n",
        "len(test_labels)\n",
        "\n",
        "# Build the model.\n",
        "model = keras.models.Sequential([\n",
        "    keras.layers.Dense(512, activation=\"relu\"),\n",
        "    keras.layers.Dense(10, activation=\"softmax\")    \n",
        "])\n",
        "\n",
        "# Make the model ready for training.\n",
        "model.compile(\n",
        "    optimizer=\"rmsprop\", \n",
        "    loss=\"sparse_categorical_crossentropy\", \n",
        "    metrics=\"accuracy\"\n",
        ")\n",
        "\n",
        "# The model expects that data into an array of shape (60,000, 28 * 28), so we reshape it. \n",
        "# The images from the dataset store values in the range (0, 255). We need values in the\n",
        "# range (0, 1), so we convert them to float and divide them by 255.\n",
        "train_images = train_images.reshape(60000, 28 * 28)\n",
        "train_images = train_images.astype('float32') / 255\n",
        "test_images = test_images.reshape(10000, 28 * 28)\n",
        "test_images = test_images.astype('float32') / 255\n",
        "\n",
        "# Now we're ready to train the model: we fit the model to its training data.\n",
        "model.fit(train_images, train_labels, epochs=5, batch_size=128)"
      ],
      "execution_count": 2,
      "outputs": [
        {
          "output_type": "stream",
          "text": [
            "Downloading data from https://storage.googleapis.com/tensorflow/tf-keras-datasets/mnist.npz\n",
            "11493376/11490434 [==============================] - 0s 0us/step\n",
            "Epoch 1/5\n",
            "469/469 [==============================] - 5s 9ms/step - loss: 0.4315 - accuracy: 0.8749\n",
            "Epoch 2/5\n",
            "469/469 [==============================] - 4s 9ms/step - loss: 0.1138 - accuracy: 0.9661\n",
            "Epoch 3/5\n",
            "469/469 [==============================] - 4s 9ms/step - loss: 0.0694 - accuracy: 0.9799\n",
            "Epoch 4/5\n",
            "469/469 [==============================] - 4s 9ms/step - loss: 0.0483 - accuracy: 0.9853\n",
            "Epoch 5/5\n",
            "469/469 [==============================] - 4s 9ms/step - loss: 0.0371 - accuracy: 0.9888\n"
          ],
          "name": "stdout"
        },
        {
          "output_type": "execute_result",
          "data": {
            "text/plain": [
              "<tensorflow.python.keras.callbacks.History at 0x7f77b06d2190>"
            ]
          },
          "metadata": {
            "tags": []
          },
          "execution_count": 2
        }
      ]
    },
    {
      "cell_type": "code",
      "metadata": {
        "id": "YzO-SBY6_tjh"
      },
      "source": [
        "# We can now use the model to make predictions on new data.\n",
        "# Let's take the first 10 samples from the test dataset. \n",
        "test_digits = test_images[0:10]\n",
        "# predictions will be a 2-D array with 10 arrays of 10 probability scores. By taking the highest\n",
        "# score index for each array, we would have the model prediction for each one of the ten images. \n",
        "predictions = model.predict(test_digits)"
      ],
      "execution_count": 8,
      "outputs": []
    },
    {
      "cell_type": "code",
      "metadata": {
        "colab": {
          "base_uri": "https://localhost:8080/"
        },
        "id": "3j6HjPC0WsA6",
        "outputId": "e76431af-5ad9-4e28-8d04-5680e9d212e1"
      },
      "source": [
        "# Let's find out what is the model prediction for the second image.\n",
        "predictions[1]"
      ],
      "execution_count": 9,
      "outputs": [
        {
          "output_type": "execute_result",
          "data": {
            "text/plain": [
              "array([1.7463319e-09, 1.7303583e-03, 9.9826604e-01, 9.0738376e-07,\n",
              "       7.1160552e-14, 9.0211998e-08, 9.9114409e-08, 5.7319507e-15,\n",
              "       2.4825056e-06, 7.9784412e-14], dtype=float32)"
            ]
          },
          "metadata": {
            "tags": []
          },
          "execution_count": 9
        }
      ]
    },
    {
      "cell_type": "code",
      "metadata": {
        "colab": {
          "base_uri": "https://localhost:8080/"
        },
        "id": "3i6vgFO_WvRp",
        "outputId": "9dd7fb76-ec99-4e1a-9774-6435dd47fbab"
      },
      "source": [
        "# The second test digit has the highest probability score (9.9999976e-01) at index 2, so\n",
        "# it must be a 2. Let's use the 'argmax' function to check if it is true. \n",
        "predictions[1].argmax()"
      ],
      "execution_count": 10,
      "outputs": [
        {
          "output_type": "execute_result",
          "data": {
            "text/plain": [
              "2"
            ]
          },
          "metadata": {
            "tags": []
          },
          "execution_count": 10
        }
      ]
    },
    {
      "cell_type": "code",
      "metadata": {
        "colab": {
          "base_uri": "https://localhost:8080/"
        },
        "id": "EaSKQOy1WyUH",
        "outputId": "d799956a-d2c7-4461-bc72-5676de7be41c"
      },
      "source": [
        "# Let's also check that the test label agrees. \n",
        "test_labels[1]"
      ],
      "execution_count": 11,
      "outputs": [
        {
          "output_type": "execute_result",
          "data": {
            "text/plain": [
              "2"
            ]
          },
          "metadata": {
            "tags": []
          },
          "execution_count": 11
        }
      ]
    },
    {
      "cell_type": "code",
      "metadata": {
        "colab": {
          "base_uri": "https://localhost:8080/"
        },
        "id": "3mlRZN2TXI2A",
        "outputId": "0d9eca7b-8043-4ed8-fc6a-d7c8032f2e47"
      },
      "source": [
        "# Let's now evaluate the model accuracy over the entire test set. \n",
        "test_loss, test_acc = model.evaluate(test_images, test_labels)\n",
        "\n",
        "print('test_acc: ', test_acc)"
      ],
      "execution_count": 12,
      "outputs": [
        {
          "output_type": "stream",
          "text": [
            "313/313 [==============================] - 1s 2ms/step - loss: 0.0707 - accuracy: 0.9796\n",
            "test_acc:  0.9796000123023987\n"
          ],
          "name": "stdout"
        }
      ]
    },
    {
      "cell_type": "markdown",
      "metadata": {
        "id": "_I00t2esXye5"
      },
      "source": [
        "As we can see, the test accuracy turns out to be 97.96%, that is quite a bit lower than the training set accuracy. \n",
        "That is due to overfitting. "
      ]
    }
  ]
}